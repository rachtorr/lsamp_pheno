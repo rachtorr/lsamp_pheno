{
 "cells": [
  {
   "cell_type": "markdown",
   "id": "a171668f",
   "metadata": {},
   "source": [
    "---"
   ]
  },
  {
   "cell_type": "markdown",
   "id": "f21e39a3",
   "metadata": {},
   "source": [
    "title: \"pheno\""
   ]
  },
  {
   "cell_type": "markdown",
   "id": "f0c270b4",
   "metadata": {},
   "source": [
    "author: \"rachel torres\""
   ]
  },
  {
   "cell_type": "markdown",
   "id": "fa79801c",
   "metadata": {},
   "source": [
    "date: \"2025-01-07\""
   ]
  },
  {
   "cell_type": "markdown",
   "id": "aa5f172b",
   "metadata": {},
   "source": [
    "output: html_document"
   ]
  },
  {
   "cell_type": "markdown",
   "id": "c80c62d8",
   "metadata": {},
   "source": [
    "---"
   ]
  },
  {
   "cell_type": "markdown",
   "id": "9a29614d",
   "metadata": {},
   "source": []
  },
  {
   "cell_type": "code",
   "execution_count": null,
   "id": "c2d3430e",
   "metadata": {},
   "outputs": [],
   "source": [
    "knitr::opts_chunk$set(echo = TRUE)\n",
    "\n",
    "# if running this for the first time, you'll need to uncomment the lines 13-16 and run those, otherwise will get error trying to load phenocamr\n",
    "\n",
    "#install.packages(\"devtools\")\n",
    "#if(!require(remotes)){install.packages(\"remotes\")}\n",
    "#remotes::install_github(\"bluegreen-labs/phenor@v1.3.1\")\n",
    "#install.packages(\"phenocamr\")\n",
    "\n",
    "library(phenor)\n",
    "library(phenocamr)\n",
    "library(tidyverse)\n",
    "library(tsibble)\n",
    "library(fable)\n",
    "library(fabletools)"
   ]
  },
  {
   "cell_type": "markdown",
   "id": "d401402b",
   "metadata": {},
   "source": []
  },
  {
   "cell_type": "markdown",
   "id": "32a28daa",
   "metadata": {},
   "source": [
    "## tutorial - NEON pheno packages "
   ]
  },
  {
   "cell_type": "markdown",
   "id": "13efdb16",
   "metadata": {},
   "source": []
  },
  {
   "cell_type": "markdown",
   "id": "36155508",
   "metadata": {},
   "source": [
    "https://www.neonscience.org/resources/learning-hub/tutorials/phenocam-phenor-modeling"
   ]
  },
  {
   "cell_type": "markdown",
   "id": "c5cdf60a",
   "metadata": {},
   "source": []
  },
  {
   "cell_type": "markdown",
   "id": "7b246416",
   "metadata": {},
   "source": [
    "For the latest version, install `phenor` from here: https://github.com/bluegreen-labs/phenor (be sure to update all packages for installation to work, and install GenSA)"
   ]
  },
  {
   "cell_type": "markdown",
   "id": "ff4611c1",
   "metadata": {},
   "source": []
  },
  {
   "cell_type": "markdown",
   "id": "e4135a1d",
   "metadata": {},
   "source": [
    "See a map of phenocam sites [here](https://phenocam.nau.edu/webcam/network/map/)"
   ]
  },
  {
   "cell_type": "markdown",
   "id": "459d9122",
   "metadata": {},
   "source": []
  },
  {
   "cell_type": "markdown",
   "id": "cb9f773b",
   "metadata": {},
   "source": [
    "This example will look at the NEON site GRSM Great Smoky Mountains "
   ]
  },
  {
   "cell_type": "markdown",
   "id": "552587b1",
   "metadata": {},
   "source": []
  },
  {
   "cell_type": "markdown",
   "id": "d7050368",
   "metadata": {},
   "source": []
  },
  {
   "cell_type": "code",
   "execution_count": null,
   "id": "69e39a29",
   "metadata": {},
   "outputs": [],
   "source": [
    "\n",
    "# change my_site to the phenocam site you are looking at \n",
    "my_site = \"NEON.D07.GRSM.DP1.00033\"\n",
    "\n",
    "# can see rois to select where to download(regions of interest)\n",
    "list_rois() %>% \n",
    "  filter(site==my_site)\n",
    "# roi id 1000 has been around the longest with least amount of missing data, makese sense to use as example \n",
    "\n",
    "# download phenocam - this should create 2 csv files \n",
    "phenocamr::download_phenocam(\n",
    "  veg_type = \"DB\", #DB for decid broadleaf, EN for evergreen, default is ALL\n",
    "  roi_id = 1000,\n",
    "  site = my_site,\n",
    "  phenophase = TRUE,\n",
    "  out_dir = \".\" # saves in current working dir\n",
    "  )\n",
    "\n",
    "\n",
    "\n",
    "\n"
   ]
  },
  {
   "cell_type": "markdown",
   "id": "731b7fd6",
   "metadata": {},
   "source": []
  },
  {
   "cell_type": "markdown",
   "id": "4e2798e0",
   "metadata": {},
   "source": [
    "A new file should be downloaded in your folder, the format is: `Site_ID_Veg_ROI_3day.csv` or with `_transition.csv`. For the example above, the files start with `NEON.D077.GRSM.DP1.00033_DB_1000_3day`"
   ]
  },
  {
   "cell_type": "markdown",
   "id": "fb0c8e6d",
   "metadata": {},
   "source": []
  },
  {
   "cell_type": "markdown",
   "id": "0f0cdd6f",
   "metadata": {},
   "source": [
    "The data is set up as a `phenocamr` type, which includes a list with metadata and timeseries data"
   ]
  },
  {
   "cell_type": "markdown",
   "id": "9a9deaa0",
   "metadata": {},
   "source": []
  },
  {
   "cell_type": "markdown",
   "id": "82713bdd",
   "metadata": {},
   "source": [
    "## following steps from phenocamr vignette "
   ]
  },
  {
   "cell_type": "markdown",
   "id": "cf626134",
   "metadata": {},
   "source": []
  },
  {
   "cell_type": "markdown",
   "id": "a9590e87",
   "metadata": {},
   "source": [
    "[see website here](https://bluegreen-labs.github.io/phenocamr/articles/phenocamr-vignette.html)"
   ]
  },
  {
   "cell_type": "markdown",
   "id": "769ad747",
   "metadata": {},
   "source": []
  },
  {
   "cell_type": "markdown",
   "id": "63dbd8e9",
   "metadata": {},
   "source": [
    "source has clear steps, but uses base plotting, below I create same plot with ggplot. In this plot, the green line represents date when green up has reached 50%, and the red line represents date when 50% of gcc was lost. To see how this is calculated, check out the figures on page 6 of the [phenocam access guide](chrome-extension://efaidnbmnnnibpcajpcglclefindmkaj/https://phenocam.nau.edu/education/PhenoCam_Access_Guide.pdf)."
   ]
  },
  {
   "cell_type": "markdown",
   "id": "f0099b85",
   "metadata": {},
   "source": []
  },
  {
   "cell_type": "code",
   "execution_count": null,
   "id": "daabd1e8",
   "metadata": {},
   "outputs": [],
   "source": [
    "# read as phenocamr type \n",
    "df = read_phenocam(paste(my_site,\"DB_1000_3day.csv\", sep=\"_\"))\n",
    "\n",
    "df <- expand_phenocam(df) # expand every 3 day to every day \n",
    "\n",
    "df <- detect_outliers(df) # detect outliers\n",
    "\n",
    "df <- smooth_ts(df) # smooth data using AIC \n",
    "\n",
    "phenology_dates <- phenophases(df, internal = TRUE) # calculate rising and falling\n",
    "\n",
    "as.data.frame(df$data) %>% \n",
    "  mutate(date = as.Date(date)) %>% \n",
    "  ggplot(aes(x=date, y=smooth_gcc_90)) + \n",
    "  geom_line() +\n",
    "  labs(x=\"Date\", y=\"GCC\") + \n",
    "  # rising \"spring\" greenup dates \n",
    "  geom_vline(data=phenology_dates$rising, aes(xintercept=transition_50), col=\"green\") + \n",
    "  # falling 'autumn' senescence dates \n",
    "  geom_vline(data=phenology_dates$falling, aes(xintercept=transition_50), col=\"brown\")\n"
   ]
  },
  {
   "cell_type": "code",
   "execution_count": null,
   "id": "9dd5d4ee",
   "metadata": {},
   "outputs": [],
   "source": [
    "\n",
    "year_to_plot = 2024\n",
    "\n",
    "greenup = phenology_dates$rising %>% \n",
    "  mutate(date50 = as.Date(transition_50),\n",
    "         year = year(date50), \n",
    "         yday50 = yday(date50)) %>% \n",
    "  filter(year==year_to_plot,\n",
    "         gcc_value=='gcc_90')\n",
    "\n",
    "myplot = as.data.frame(df$data) %>% \n",
    "  filter(year==year_to_plot) %>% \n",
    "  mutate(date = as.Date(date),\n",
    "         yday = yday(date)) %>% \n",
    "  ggplot(aes(x=yday, y=smooth_gcc_90)) + \n",
    "  geom_line(size=1) +\n",
    "  labs(x=\"Day of Year\", y=\"GCC\") + \n",
    "  # rising \"spring\" greenup dates \n",
    "  geom_vline(data=greenup, aes(xintercept=yday50), col=\"green\",  linetype=5, size=1) + \n",
    "  geom_point(data=greenup, aes(x=yday50, y=threshold_50), col=\"green\")+\n",
    "  geom_text(data=greenup, aes(x=yday50, y=threshold_50, label=\"T50\"), nudge_x=-25, size=4) + \n",
    "  theme_classic() + \n",
    "  theme(text=element_text(size=16)) \n",
    "\n",
    "ggsave(\"plots/doy_gcc.png\", \n",
    "       myplot,\n",
    "       units=\"in\",\n",
    "       width=4, height = 2)\n"
   ]
  },
  {
   "cell_type": "markdown",
   "id": "7a09b219",
   "metadata": {},
   "source": []
  },
  {
   "cell_type": "markdown",
   "id": "d6c05257",
   "metadata": {},
   "source": [
    "# explore data and make plots "
   ]
  },
  {
   "cell_type": "markdown",
   "id": "4f508cb5",
   "metadata": {},
   "source": []
  },
  {
   "cell_type": "markdown",
   "id": "238e7919",
   "metadata": {},
   "source": [
    "Find the metadata here:"
   ]
  },
  {
   "cell_type": "markdown",
   "id": "f596ad72",
   "metadata": {},
   "source": [
    "https://phenocam.nau.edu/webcam/tools/summary_file_format/"
   ]
  },
  {
   "cell_type": "markdown",
   "id": "35f462fe",
   "metadata": {},
   "source": []
  },
  {
   "cell_type": "code",
   "execution_count": null,
   "id": "5c5df566",
   "metadata": {},
   "outputs": [],
   "source": [
    "# get data frame from larger phenocamr object \n",
    "site_df = df$data\n",
    "\n",
    "# list the column names\n",
    "names(site_df)\n",
    "\n",
    "# get summary values of gcc90\n",
    "summary(site_df$gcc_90, na.rm=T)\n",
    "\n",
    "# plot gcc90 \n",
    "ggplot(site_df, aes(x=as.Date(date), y=gcc_90)) + \n",
    "  geom_point() +\n",
    "  ggtitle(\"daily GCC_90\")\n",
    "\n",
    "# plot rcc90\n",
    "ggplot(site_df, aes(x=as.Date(date), y=rcc_90)) + \n",
    "  geom_point() +\n",
    "  ggtitle(\"daily RCC_90\")\n",
    "\n",
    "# plot smoothed values \n",
    "ggplot(site_df, aes(x=as.Date(date), y=gcc_90)) + \n",
    "  geom_point() +\n",
    "  geom_line(aes(x=as.Date(date), y=smooth_gcc_90, col=\"smoothed\"))\n",
    "\n"
   ]
  },
  {
   "cell_type": "markdown",
   "id": "f12cfe7b",
   "metadata": {},
   "source": []
  },
  {
   "cell_type": "markdown",
   "id": "976255ba",
   "metadata": {},
   "source": [
    "## transition days "
   ]
  },
  {
   "cell_type": "markdown",
   "id": "593bd6d4",
   "metadata": {},
   "source": []
  },
  {
   "cell_type": "code",
   "execution_count": null,
   "id": "021cb611",
   "metadata": {},
   "outputs": [],
   "source": [
    "# alternative to the above section that used the phenophases function \n",
    "# load in transition days \n",
    "dft = read_phenocam(paste(my_site,\"DB_1000_3day_transition_dates.csv\", sep=\"_\"))$data\n",
    "\n",
    "names(dft)\n",
    "\n",
    "# get rising and falling dates \n",
    "td <- dft %>% \n",
    "  dplyr::filter(direction==\"rising\" & gcc_value==\"gcc_90\")\n",
    "\n",
    "fd <- dft %>% \n",
    "  dplyr::filter(direction==\"falling\" & gcc_value==\"gcc_90\")\n",
    "\n",
    "# create a simple line graph of the smooth Green Chromatic Coordinate (Gcc)\n",
    "# and add points for transition dates\n",
    "# this is same as above, but read in from the transition csv \n",
    "ggplot() + \n",
    "  geom_line(data=site_df, aes(x=as.Date(date), y=smooth_gcc_90)) + \n",
    "  geom_point(data=td, aes(x=as.Date(transition_50), y=threshold_50, col=\"rising 50\")) + \n",
    "  geom_point(data=fd, aes(x=as.Date(transition_50), y=threshold_50, col=\"falling 50\")) +\n",
    "  labs(x=\"date\", y=\"GCC 90\", col=\"transition\")\n",
    "\n",
    "# can also compare different years on same axis \n",
    "# get day of year for transition dates \n",
    "td_doy = td %>% \n",
    "  mutate(doy_t50 = yday(transition_50),\n",
    "         year = year(transition_50)) \n",
    "\n",
    "ggplot(site_df, aes(x=doy, y=smooth_gcc_90, col=as.factor(year))) +\n",
    "  geom_line() +\n",
    "  geom_vline(data=td_doy, aes(xintercept=doy_t50, col=as.factor(year)), linetype=\"dashed\")\n",
    "\n",
    "# this is not a great visualization, hard to see, can try to zoom in \n",
    "site_df %>% filter(doy<150) %>% \n",
    "  ggplot(aes(x=doy, y=smooth_gcc_90, col=as.factor(year))) +\n",
    "  geom_line() +\n",
    "  geom_vline(data=td_doy, aes(xintercept=doy_t50, col=as.factor(year)), linetype=\"dashed\")\n",
    "\n",
    "\n",
    "# can also use transition points to plot \n",
    "td_doy %>% \n",
    "  ggplot(aes(x=as.factor(year), y=doy_t50)) +\n",
    "  geom_point(aes(col=threshold_50)) \n"
   ]
  },
  {
   "cell_type": "markdown",
   "id": "3e31d4c5",
   "metadata": {},
   "source": []
  },
  {
   "cell_type": "markdown",
   "id": "296645b8",
   "metadata": {},
   "source": []
  },
  {
   "cell_type": "markdown",
   "id": "03c7a4b1",
   "metadata": {},
   "source": [
    "## climate data: Daymet  "
   ]
  },
  {
   "cell_type": "markdown",
   "id": "100c2bf2",
   "metadata": {},
   "source": []
  },
  {
   "cell_type": "markdown",
   "id": "7951eb6a",
   "metadata": {},
   "source": [
    "Use the function `merge_daymet()` to get climate and daylength"
   ]
  },
  {
   "cell_type": "markdown",
   "id": "37a9d925",
   "metadata": {},
   "source": []
  },
  {
   "cell_type": "markdown",
   "id": "0630f907",
   "metadata": {},
   "source": [
    "Daymet is continuous, gridded estimates of weather and climate variables creted through statistical interpolation of ground based measurements. Read more here: https://daymet.ornl.gov/"
   ]
  },
  {
   "cell_type": "markdown",
   "id": "7a32c7cc",
   "metadata": {},
   "source": []
  },
  {
   "cell_type": "code",
   "execution_count": null,
   "id": "cd43195f",
   "metadata": {},
   "outputs": [],
   "source": [
    "site_clim = merge_daymet(paste(my_site, \"DB_1000_3day.csv\", sep=\"_\"))\n",
    "\n",
    "names(site_clim)\n",
    "\n",
    "site_data = site_clim$data\n",
    "\n",
    "# plot daily rainfall and temperatures \n",
    "ggplot(site_data, aes(x=date, y=prcp..mm.day.))+\n",
    "  geom_line() + \n",
    "  labs(y=\"precip [mm]\", title=\"Daily Precipitation\") +\n",
    "  theme_bw() \n",
    "\n",
    "ggplot(site_data) +\n",
    "  geom_point(aes(x=date, y=tmax..deg.c., col=\"tmax\"), col=\"red\") +\n",
    "  geom_point(aes(x=date, y=tmin..deg.c., col=\"tmin\"), col=\"blue\") +\n",
    "  labs(y=\"temp. deg C\", title = \"Daily temperature\") +\n",
    "  theme_bw()\n"
   ]
  },
  {
   "cell_type": "markdown",
   "id": "02b20180",
   "metadata": {},
   "source": []
  },
  {
   "cell_type": "markdown",
   "id": "97f1521d",
   "metadata": {},
   "source": [
    "# Growing degree days "
   ]
  },
  {
   "cell_type": "code",
   "execution_count": null,
   "id": "f32c47fb",
   "metadata": {},
   "outputs": [],
   "source": [
    "\n",
    "site_data$tavg = (site_data$tmax..deg.c.+site_data$tmin..deg.c.)/2\n",
    "site_data$gdd = site_data$tavg - 0\n",
    "\n",
    "bnh_avg = site_data %>% group_by(doy) %>% summarize(gdd = mean(gdd))\n",
    "\n",
    "plot(bnh_avg$doy, bnh_avg$gdd)\n"
   ]
  },
  {
   "cell_type": "markdown",
   "id": "a4b10d52",
   "metadata": {},
   "source": []
  },
  {
   "cell_type": "markdown",
   "id": "e215d7be",
   "metadata": {},
   "source": []
  },
  {
   "cell_type": "markdown",
   "id": "e2ff37d8",
   "metadata": {},
   "source": []
  },
  {
   "cell_type": "markdown",
   "id": "59769a74",
   "metadata": {},
   "source": [
    "## Explore data with climate "
   ]
  },
  {
   "cell_type": "markdown",
   "id": "42efc171",
   "metadata": {},
   "source": []
  },
  {
   "cell_type": "markdown",
   "id": "dc47dc47",
   "metadata": {},
   "source": [
    "In this example, looking at how daily values might be related to climate data. If using transition dates, would want to look at the dataframe `td_doy` and would need a climate data frame summarized be annual values to join them. More to come soon! "
   ]
  },
  {
   "cell_type": "markdown",
   "id": "dbf913d5",
   "metadata": {},
   "source": []
  },
  {
   "cell_type": "code",
   "execution_count": null,
   "id": "fcfdccf1",
   "metadata": {},
   "outputs": [],
   "source": [
    "\n",
    "# day of the year patterns \n",
    "ggplot(site_data) +\n",
    "  geom_point(aes(x=doy, y=gcc_90))\n",
    "\n",
    "# precipitation\n",
    "ggplot(site_data) + \n",
    "  geom_point(aes(x=prcp..mm.day., y=gcc_90, col=doy)) + scale_color_viridis_c()\n",
    "\n",
    "# day of the year with daylength \n",
    "ggplot(site_data) + \n",
    "   geom_point(aes(x=doy, y=gcc_90, col=dayl..s.)) + scale_color_viridis_c()\n",
    "\n",
    "# daylength \n",
    "ggplot(site_data) +\n",
    "  geom_point(aes(x=dayl..s., y=gcc_90)) \n",
    "\n",
    "# min temperatures \n",
    "ggplot(site_data) +\n",
    "  geom_point(aes(x=tmin..deg.c., y=gcc_90))\n",
    "# max temperatures \n",
    "ggplot(site_data) +\n",
    "  geom_point(aes(x=tmax..deg.c., y=gcc_90))\n"
   ]
  },
  {
   "cell_type": "markdown",
   "id": "0fc18c38",
   "metadata": {},
   "source": []
  },
  {
   "cell_type": "markdown",
   "id": "a013b93a",
   "metadata": {},
   "source": [
    "## start with time series linear model "
   ]
  },
  {
   "cell_type": "markdown",
   "id": "cae243d0",
   "metadata": {},
   "source": []
  },
  {
   "cell_type": "markdown",
   "id": "dfd981e5",
   "metadata": {},
   "source": [
    "Forecasting daily values "
   ]
  },
  {
   "cell_type": "markdown",
   "id": "0828a8bd",
   "metadata": {},
   "source": []
  },
  {
   "cell_type": "code",
   "execution_count": null,
   "id": "7587005c",
   "metadata": {},
   "outputs": [],
   "source": [
    "\n",
    "# subset data \n",
    "data_mod = site_data %>% dplyr::filter(year<2020)\n",
    "\n",
    "# start with trying 1-2 variables \n",
    "lm_test = as_tsibble(data_mod) %>% \n",
    "  model(lm1=fable::TSLM(gcc_90~dayl..s.),\n",
    "        lm2 = fable::TSLM(gcc_90~dayl..s.+tmin..deg.c.))\n",
    "\n",
    "# see residuals, p-vals, Rsquares, etc. \n",
    "report(lm_test)\n",
    "\n",
    "# predict with remaining years\n",
    "data_pred = site_data %>% \n",
    "  dplyr::filter(year>=2020) %>% \n",
    "  select(gcc_90, dayl..s., tmin..deg.c., year, doy, date) \n",
    "\n",
    "# predict using fabletools::forecast function - note data must be tsibble \n",
    "fc_lm <- lm_test %>% \n",
    "  fabletools::forecast(\n",
    "    new_data=data_pred %>% \n",
    "      as_tsibble(index=date)\n",
    "  )\n",
    "# note that output contains distribution of gcc_90 and the mean values \n",
    "\n",
    "# plot model \n",
    "ggplot(fc_lm) + \n",
    "  geom_point(aes(x=date, y=.mean, col=.model)) + \n",
    "  geom_point(data=data_pred, aes(x=date, y=gcc_90, col=\"obs\")) \n",
    "\n",
    "# based on report and visual, model with 2 variables does better \n",
    "\n",
    "# we can also compare to obs. with modeled \n",
    "data_pred %>% \n",
    "  rename(obs = gcc_90) %>% \n",
    "  inner_join(fc_lm, by='date') %>% \n",
    "  filter(.model==\"lm2\") %>% \n",
    "  ggplot() + geom_point(aes(x=obs, y=.mean), alpha=0.5) +\n",
    "  geom_abline(aes(slope=1, intercept=0))\n",
    "\n"
   ]
  },
  {
   "cell_type": "markdown",
   "id": "348b5e38",
   "metadata": {},
   "source": []
  },
  {
   "cell_type": "markdown",
   "id": "0ec938ed",
   "metadata": {},
   "source": [
    "In the above we forecasted for daily values, but what if we want to use annual metrics to predict transition dates? "
   ]
  },
  {
   "cell_type": "markdown",
   "id": "e4d64dd2",
   "metadata": {},
   "source": []
  },
  {
   "cell_type": "markdown",
   "id": "33f8878e",
   "metadata": {},
   "source": []
  },
  {
   "cell_type": "markdown",
   "id": "4c38d76e",
   "metadata": {},
   "source": []
  },
  {
   "cell_type": "markdown",
   "id": "ea68c73c",
   "metadata": {},
   "source": [
    "## use models from phenoR package "
   ]
  },
  {
   "cell_type": "markdown",
   "id": "797a6f6d",
   "metadata": {},
   "source": []
  },
  {
   "cell_type": "code",
   "execution_count": null,
   "id": "25e71753",
   "metadata": {},
   "outputs": [],
   "source": [
    "\n",
    "# read in parameter ranges \n",
    "path <- sprintf(\"%s/extdata/parameter_ranges.csv\",path.package(\"phenor\"))\n",
    "par_ranges <- read.table(path,\n",
    "                        header = TRUE,\n",
    "                        sep = \",\")\n",
    "\n",
    "# estimates phenophase timing \n",
    "# LIN is a linear regression against spring temps \n",
    "lin_par = par_ranges %>%\n",
    "  dplyr::filter(model==\"LIN\") %>% \n",
    "  select(a,b)\n",
    "\n",
    "\n",
    "\n",
    "# load data from phenor package - contains all decid broadleaf (DB) sites budburst data \n",
    "# in proper format for models\n",
    "pheno_data = phenocam_DB$smokylook  # smoky look is in great smoky mountains \n",
    "\n",
    "pheno_data = pr_flatten(pheno_data)\n",
    "\n",
    "# modeling spring temps v. transition dates \n",
    "# format is that each column is a year \n",
    "# here converting to a format we can visualize \n",
    "\n",
    "# start data frame \n",
    "spr_temps <- data.frame(pheno_data$Tmini) \n",
    "# label columns \n",
    "colnames(spr_temps) <- pheno_data$year\n",
    "# create doy column \n",
    "spr_temps$doy = as.numeric(rownames(spr_temps))\n",
    "\n",
    "# in this chunk, we take spring temperatures, get the mean each year, and combine with the transition day vector\n",
    "spr_temps_trans <- spr_temps %>% \n",
    "          filter(doy>=60 & doy <=150) %>% \n",
    "          pivot_longer(cols=-c(doy),\n",
    "                       names_to=\"year\",\n",
    "                       values_to=\"tmin\") %>% \n",
    "  group_by(year) %>% \n",
    "  summarize(tmin = mean(tmin)) %>% \n",
    "  mutate(tday = pheno_data$transition_dates)\n",
    "\n",
    "# plot the relationship we are doing a model on \n",
    "ggplot(spr_temps_trans,\n",
    "       aes(x=tmin, y=tday)) + \n",
    "  geom_point() + \n",
    "  geom_smooth(method=\"lm\")\n",
    "\n",
    "# run the linear model and get predicted transition dates \n",
    "tmp = LIN(par=c(a=1, b=114), data=pheno_data, spring=c(60,150))\n",
    "\n",
    "# add predictions \n",
    "spr_temps_trans$pred_td <- tmp\n",
    "\n",
    "# plot again with predictions to visualize \n",
    "ggplot(spr_temps_trans,\n",
    "       aes(x=tmin, y=tday, col=\"obs\")) + \n",
    "  geom_point() + \n",
    "  geom_point(aes(x=tmin, y=pred_td, col=\"pred\"))\n",
    "\n"
   ]
  },
  {
   "cell_type": "markdown",
   "id": "90a49f32",
   "metadata": {},
   "source": []
  },
  {
   "cell_type": "markdown",
   "id": "2fd9a5d0",
   "metadata": {},
   "source": [
    "Following this tutorial: https://www.neonscience.org/resources/learning-hub/tutorials/phenocam-phenor-modeling"
   ]
  },
  {
   "cell_type": "markdown",
   "id": "3b7e0417",
   "metadata": {},
   "source": []
  }
 ],
 "metadata": {
  "language_info": {
   "name": "r"
  }
 },
 "nbformat": 4,
 "nbformat_minor": 5
}